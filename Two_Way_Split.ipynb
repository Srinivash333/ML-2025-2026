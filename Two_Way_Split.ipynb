{
  "nbformat": 4,
  "nbformat_minor": 0,
  "metadata": {
    "colab": {
      "provenance": [],
      "authorship_tag": "ABX9TyPW2my7rn376xUDdn5PZ95n",
      "include_colab_link": true
    },
    "kernelspec": {
      "name": "python3",
      "display_name": "Python 3"
    },
    "language_info": {
      "name": "python"
    }
  },
  "cells": [
    {
      "cell_type": "markdown",
      "metadata": {
        "id": "view-in-github",
        "colab_type": "text"
      },
      "source": [
        "<a href=\"https://colab.research.google.com/github/Shrinidhi-Nadig/ML-Lab/blob/main/Two_Way_Split.ipynb\" target=\"_parent\"><img src=\"https://colab.research.google.com/assets/colab-badge.svg\" alt=\"Open In Colab\"/></a>"
      ]
    },
    {
      "cell_type": "code",
      "execution_count": 8,
      "metadata": {
        "id": "f6kSnnOcOBll"
      },
      "outputs": [],
      "source": [
        "import pandas as pd\n",
        "from sklearn.model_selection import train_test_split"
      ]
    },
    {
      "cell_type": "code",
      "source": [
        "import os"
      ],
      "metadata": {
        "id": "ShxooWy0RVom"
      },
      "execution_count": 9,
      "outputs": []
    },
    {
      "cell_type": "code",
      "source": [
        "path = r\"/content/dummy_customer_transactions.csv\""
      ],
      "metadata": {
        "id": "fI-DilHVSIXb"
      },
      "execution_count": 16,
      "outputs": []
    },
    {
      "cell_type": "code",
      "source": [
        "print(os.path.exists(path))"
      ],
      "metadata": {
        "colab": {
          "base_uri": "https://localhost:8080/"
        },
        "id": "M5IZiRm1STSA",
        "outputId": "122bd161-c858-4fa6-bc52-bae29e9fde2d"
      },
      "execution_count": 17,
      "outputs": [
        {
          "output_type": "stream",
          "name": "stdout",
          "text": [
            "True\n"
          ]
        }
      ]
    },
    {
      "cell_type": "code",
      "source": [
        "df = pd.read_csv(path)"
      ],
      "metadata": {
        "id": "nOBSSfYXSXrA"
      },
      "execution_count": 19,
      "outputs": []
    },
    {
      "cell_type": "code",
      "source": [
        "print(df.head)"
      ],
      "metadata": {
        "colab": {
          "base_uri": "https://localhost:8080/"
        },
        "id": "EzUNwWR3TERw",
        "outputId": "0c58af89-f387-492c-b61e-9b0151ea3234"
      },
      "execution_count": 20,
      "outputs": [
        {
          "output_type": "stream",
          "name": "stdout",
          "text": [
            "<bound method NDFrame.head of      Customer_ID    Name  Age  Gender     City  Purchase_Amount  \\\n",
            "0       CUST1000  Sophia   64    Male     Pune          9358.32   \n",
            "1       CUST1001    Noah   40  Female    Delhi          4170.43   \n",
            "2       CUST1002   Alice   48  Female    Delhi          8618.38   \n",
            "3       CUST1003   Alice   42  Female   Karwar          7078.04   \n",
            "4       CUST1004   Alice   44  Female      Goa          2994.69   \n",
            "...          ...     ...  ...     ...      ...              ...   \n",
            "5995    CUST6995  Olivia   48   Other   Mysore          4638.92   \n",
            "5996    CUST6996   Ethan   64  Female    Delhi           957.86   \n",
            "5997    CUST6997   Clara   45  Female   Mysore          1962.26   \n",
            "5998    CUST6998  Sophia   63   Other    Delhi          6954.32   \n",
            "5999    CUST6999   Ethan   63   Other  Chennai          8154.46   \n",
            "\n",
            "     Membership_Level Purchase_Date  Churn  \n",
            "0            Platinum    22-11-2023      0  \n",
            "1            Platinum    01-10-2024      0  \n",
            "2                Gold    25-02-2024      0  \n",
            "3              Silver    16-02-2025      0  \n",
            "4              Silver    14-07-2025      1  \n",
            "...               ...           ...    ...  \n",
            "5995             Gold    06-09-2024      0  \n",
            "5996             Gold    19-02-2025      1  \n",
            "5997             Gold    12-10-2024      0  \n",
            "5998           Silver    02-11-2024      1  \n",
            "5999             Gold    13-12-2023      0  \n",
            "\n",
            "[6000 rows x 9 columns]>\n"
          ]
        }
      ]
    },
    {
      "cell_type": "code",
      "source": [
        "X = df.drop(columns=[\"Churn\"])"
      ],
      "metadata": {
        "id": "xuQSOxKKTPUO"
      },
      "execution_count": 21,
      "outputs": []
    },
    {
      "cell_type": "code",
      "source": [
        "y = df[\"Churn\"]"
      ],
      "metadata": {
        "id": "hTr8xVCvTaP-"
      },
      "execution_count": 22,
      "outputs": []
    },
    {
      "cell_type": "code",
      "source": [
        "X_train, X_test, y_train, y_test = train_test_split(\n",
        "    X, y, test_size=0.2, random_state=42, stratify=y\n",
        ")"
      ],
      "metadata": {
        "id": "OvLn1uk6Tc6F"
      },
      "execution_count": 23,
      "outputs": []
    },
    {
      "cell_type": "code",
      "source": [
        "train_df = pd.concat([X_train, y_train], axis=1)\n",
        "test_df = pd.concat([X_test, y_test], axis=1)"
      ],
      "metadata": {
        "id": "970jTLyNT25B"
      },
      "execution_count": 24,
      "outputs": []
    },
    {
      "cell_type": "code",
      "source": [
        "train_df.to_csv(\"train_data.csv\", index=False)\n",
        "test_df.to_csv(\"test_data.csv\", index=False)"
      ],
      "metadata": {
        "id": "WCcZJx4vUD-m"
      },
      "execution_count": 25,
      "outputs": []
    },
    {
      "cell_type": "code",
      "source": [
        "print(\"Training set shape:\", train_df.shape)\n",
        "print(\"Testing set shape:\", test_df.shape)"
      ],
      "metadata": {
        "colab": {
          "base_uri": "https://localhost:8080/"
        },
        "id": "KnLZLfZRUGMi",
        "outputId": "d7d767cf-2879-4de8-b5c1-a2c5cc1a30ea"
      },
      "execution_count": 26,
      "outputs": [
        {
          "output_type": "stream",
          "name": "stdout",
          "text": [
            "Training set shape: (4800, 9)\n",
            "Testing set shape: (1200, 9)\n"
          ]
        }
      ]
    },
    {
      "cell_type": "code",
      "source": [],
      "metadata": {
        "id": "1Njk-XkrUJNa"
      },
      "execution_count": null,
      "outputs": []
    }
  ]
}