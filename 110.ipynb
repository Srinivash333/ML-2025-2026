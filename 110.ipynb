{
  "cells": [
    {
      "cell_type": "markdown",
      "metadata": {
        "id": "view-in-github",
        "colab_type": "text"
      },
      "source": [
        "<a href=\"https://colab.research.google.com/github/Srinivash333/ML-2025-2026/blob/main/110.ipynb\" target=\"_parent\"><img src=\"https://colab.research.google.com/assets/colab-badge.svg\" alt=\"Open In Colab\"/></a>"
      ]
    },
    {
      "cell_type": "code",
      "execution_count": null,
      "id": "d1a143da-bfd2-4756-855f-1b3c5245428e",
      "metadata": {
        "id": "d1a143da-bfd2-4756-855f-1b3c5245428e",
        "outputId": "b8aa3ce1-6441-4eaa-c37a-80b13632d49f"
      },
      "outputs": [
        {
          "name": "stdout",
          "output_type": "stream",
          "text": [
            "output: 1\n"
          ]
        }
      ],
      "source": [
        "def mcp_neuron(inputs ,weights,thrēshsold):\n",
        "    weighted_sum=sum(i*w for i,w in zip(inputs,weights))\n",
        "    return 1 if weighted_sum>=thresold else 0\n",
        "\n",
        "inputs=[1,1]\n",
        "weights=[1,1]\n",
        "threshold=2\n",
        "output=mcp_neuron(inputs,weights,threshold)\n",
        "print(\"output:\",output)\n"
      ]
    },
    {
      "cell_type": "code",
      "execution_count": null,
      "id": "eba058cf-dd55-4a64-a221-f94712dfa0ba",
      "metadata": {
        "id": "eba058cf-dd55-4a64-a221-f94712dfa0ba",
        "outputId": "bb80e33e-7d0c-4dc8-883a-7e97597ea4ff"
      },
      "outputs": [
        {
          "name": "stdout",
          "output_type": "stream",
          "text": [
            "XOR(0, 0) = 0\n",
            "XOR(0, 1) = 1\n",
            "XOR(1, 0) = 1\n",
            "XOR(1, 1) = 0\n"
          ]
        }
      ],
      "source": [
        "def mcp_neuron(inputs, weights, threshold):\n",
        "    weighted_sum = sum(i * w for i, w in zip(inputs, weights))\n",
        "    return 1 if weighted_sum >= threshold else 0\n",
        "\n",
        "def AND(x1, x2):\n",
        "    return mcp_neuron([x1, x2], [1, 1], 2)\n",
        "\n",
        "def OR(x1, x2):\n",
        "    return mcp_neuron([x1, x2], [1, 1], 1)\n",
        "\n",
        "def NOT(x):\n",
        "    return mcp_neuron([x], [-1], 0)\n",
        "\n",
        "def XOR(x1, x2):\n",
        "\n",
        "    return AND(OR(x1, x2), NOT(AND(x1, x2)))\n",
        "\n",
        "\n",
        "for x1 in [0, 1]:\n",
        "    for x2 in [0, 1]:\n",
        "        print(f\"XOR({x1}, {x2}) = {XOR(x1, x2)}\")\n"
      ]
    },
    {
      "cell_type": "code",
      "execution_count": null,
      "id": "36a3de6c-c323-4526-a847-3123cba2d5e1",
      "metadata": {
        "id": "36a3de6c-c323-4526-a847-3123cba2d5e1",
        "outputId": "72dcb222-264e-4ef6-cb8a-b2298635b2a9"
      },
      "outputs": [
        {
          "name": "stdout",
          "output_type": "stream",
          "text": [
            "OR(0, 0) = 0\n",
            "OR(0, 1) = 1\n",
            "OR(1, 0) = 1\n",
            "OR(1, 1) = 1\n"
          ]
        }
      ],
      "source": [
        "def mcp_neuron(inputs, weights, threshold):\n",
        "    weighted_sum = sum(i * w for i, w in zip(inputs, weights))\n",
        "    return 1 if weighted_sum >= threshold else 0\n",
        "\n",
        "def OR(x1, x2):\n",
        "    return mcp_neuron([x1, x2], [1, 1], 1)\n",
        "\n",
        "\n",
        "for x1 in [0, 1]:\n",
        "    for x2 in [0, 1]:\n",
        "        print(f\"OR({x1}, {x2}) = {OR(x1, x2)}\")\n"
      ]
    },
    {
      "cell_type": "code",
      "execution_count": null,
      "id": "b90425fe-7455-4bf7-9279-45900e0b5014",
      "metadata": {
        "id": "b90425fe-7455-4bf7-9279-45900e0b5014"
      },
      "outputs": [],
      "source": []
    }
  ],
  "metadata": {
    "kernelspec": {
      "display_name": "pyhon3",
      "language": "python",
      "name": "pyhon3"
    },
    "language_info": {
      "codemirror_mode": {
        "name": "ipython",
        "version": 3
      },
      "file_extension": ".py",
      "mimetype": "text/x-python",
      "name": "python",
      "nbconvert_exporter": "python",
      "pygments_lexer": "ipython3",
      "version": "3.12.7"
    },
    "colab": {
      "provenance": [],
      "include_colab_link": true
    }
  },
  "nbformat": 4,
  "nbformat_minor": 5
}